{
 "cells": [
  {
   "cell_type": "code",
   "execution_count": 13,
   "id": "504583c2",
   "metadata": {},
   "outputs": [],
   "source": [
    "import pandas as pd\n",
    "import os\n",
    "\n",
    "# Set folder path\n",
    "ordner_pfad = \"C:/Users/anasl/Desktop/Daten 1/Daten/ods Files\""
   ]
  },
  {
   "cell_type": "code",
   "execution_count": 14,
   "id": "00c36e57",
   "metadata": {},
   "outputs": [],
   "source": [
    "# Get all .ods files\n",
    "ods_dateien = [datei for datei in os.listdir(ordner_pfad) if datei.endswith('.ods')]\n",
    "alle_daten = []"
   ]
  },
  {
   "cell_type": "code",
   "execution_count": 15,
   "id": "bee8c617",
   "metadata": {},
   "outputs": [],
   "source": [
    "# Read each .ods file and add Standort column\n",
    "for datei_name in ods_dateien:\n",
    "    standort_name = datei_name.replace('.ods', '')\n",
    "    vollstaendiger_pfad = os.path.join(ordner_pfad, datei_name)\n",
    "    daten = pd.read_excel(vollstaendiger_pfad, engine='odf')\n",
    "    daten.insert(0, 'Standort', standort_name)\n",
    "    alle_daten.append(daten)\n",
    "\n",
    "# Combine all data\n",
    "kombinierte_daten = pd.concat(alle_daten, ignore_index=True)"
   ]
  },
  {
   "cell_type": "code",
   "execution_count": 16,
   "id": "8d28152e",
   "metadata": {},
   "outputs": [],
   "source": [
    "# Rename columns\n",
    "spalten_mapping = {\n",
    "    'Minimale Temperatur': 'MinTemp',\n",
    "    'Mittlere Temperatur': 'AvgTemp', \n",
    "    'Maximale Temperatur': 'MaxTemp',\n",
    "    'Niederschlag': 'Regen',\n",
    "    'Bodentemperatur': 'Boden'\n",
    "}\n",
    "bereinigte_daten = kombinierte_daten.rename(columns=spalten_mapping)\n",
    "\n",
    "# Convert Datum to datetime and filter from 2020-01-01\n",
    "bereinigte_daten['Datum'] = pd.to_datetime(bereinigte_daten['Datum'], errors='coerce')\n",
    "bereinigte_daten = bereinigte_daten[bereinigte_daten['Datum'] >= '2020-01-01']"
   ]
  },
  {
   "cell_type": "code",
   "execution_count": 17,
   "id": "fb71da92",
   "metadata": {},
   "outputs": [],
   "source": [
    "# Drop unwanted columns\n",
    "bereinigte_daten = bereinigte_daten.drop(columns=['Mittel_Luftdruck'], errors='ignore')\n",
    "\n",
    "# Add missing columns with 0 values\n",
    "bereinigte_daten['Sonne'] = 0\n",
    "bereinigte_daten['Mittel_Windstaerke'] = 0\n",
    "bereinigte_daten['Max_Windgeschwindigkeit'] = 0\n",
    "\n",
    "# Reorder columns\n",
    "gewuenschte_reihenfolge = [\n",
    "    'Standort', 'Datum', 'MinTemp', 'AvgTemp', 'MaxTemp', \n",
    "    'Regen', 'Sonne', 'Mittel_Windstaerke', 'Max_Windgeschwindigkeit', 'Boden'\n",
    "]\n",
    "bereinigte_daten = bereinigte_daten[gewuenschte_reihenfolge]"
   ]
  },
  {
   "cell_type": "code",
   "execution_count": 18,
   "id": "ea7c3d01",
   "metadata": {},
   "outputs": [],
   "source": [
    "# Fill missing values for temperature columns with mean per Standort\n",
    "temp_spalten = ['Boden', 'MinTemp', 'AvgTemp', 'MaxTemp']\n",
    "for spalte in temp_spalten:\n",
    "    bereinigte_daten[spalte] = pd.to_numeric(bereinigte_daten[spalte], errors='coerce')\n",
    "    bereinigte_daten[spalte] = bereinigte_daten.groupby('Standort')[spalte].transform(\n",
    "        lambda x: x.fillna(x.mean())\n",
    "    )\n",
    "\n",
    "# Fill Sonne missing values with 0\n",
    "bereinigte_daten['Sonne'] = bereinigte_daten['Sonne'].fillna(0)"
   ]
  },
  {
   "cell_type": "code",
   "execution_count": null,
   "id": "15892458",
   "metadata": {},
   "outputs": [],
   "source": [
    "# Export to CSV\n",
    "bereinigte_daten.to_csv(\"ods_combined.csv\", sep=\",\", index=False)"
   ]
  }
 ],
 "metadata": {
  "kernelspec": {
   "display_name": "Python 3",
   "language": "python",
   "name": "python3"
  },
  "language_info": {
   "codemirror_mode": {
    "name": "ipython",
    "version": 3
   },
   "file_extension": ".py",
   "mimetype": "text/x-python",
   "name": "python",
   "nbconvert_exporter": "python",
   "pygments_lexer": "ipython3",
   "version": "3.13.1"
  }
 },
 "nbformat": 4,
 "nbformat_minor": 5
}
