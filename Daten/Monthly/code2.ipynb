{
 "cells": [
  {
   "cell_type": "code",
   "execution_count": null,
   "id": "e37e4df0",
   "metadata": {},
   "outputs": [],
   "source": [
    "import os\n",
    "import pandas as pd"
   ]
  },
  {
   "cell_type": "code",
   "execution_count": null,
   "id": "e14bbbb7",
   "metadata": {},
   "outputs": [],
   "source": [
    "# Ordnerpfad, wo sich die CSV-Dateien befinden\n",
    "ordnerpfad = \"C:/Users/anasl/Desktop/Daten 1/Daten/Monthly\"\n",
    "\n",
    "# Alle Dateinamen mit Endung \".csv\" im Ordner sammeln\n",
    "dateinamen = [datei for datei in os.listdir(ordnerpfad) if datei.endswith(\".csv\")]"
   ]
  },
  {
   "cell_type": "code",
   "execution_count": 4,
   "id": "29c4310d",
   "metadata": {},
   "outputs": [],
   "source": [
    "# Leere Liste zum Speichern der eingelesenen DataFrames\n",
    "alle_daten = []\n",
    "\n",
    "for datei in dateinamen:\n",
    "    pfad_zur_datei = os.path.join(ordnerpfad, datei)\n",
    "    \n",
    "    daten = pd.read_csv(\n",
    "        pfad_zur_datei,\n",
    "        sep=\";\",\n",
    "        encoding=\"latin1\"\n",
    "    )\n",
    "    \n",
    "    alle_daten.append(daten)"
   ]
  },
  {
   "cell_type": "code",
   "execution_count": 5,
   "id": "7aad2af7",
   "metadata": {},
   "outputs": [],
   "source": [
    "# Alle DataFrames in der Liste zu einem einzigen DataFrame zusammenfügen\n",
    "gesamt_daten = pd.concat(alle_daten, ignore_index=True)"
   ]
  },
  {
   "cell_type": "code",
   "execution_count": 6,
   "id": "dc6d9bd2",
   "metadata": {},
   "outputs": [],
   "source": [
    "gesamt_daten[\"Datum\"] = pd.to_datetime(gesamt_daten[\"Datum\"], errors=\"coerce\")"
   ]
  },
  {
   "cell_type": "code",
   "execution_count": 7,
   "id": "e2a3f320",
   "metadata": {},
   "outputs": [],
   "source": [
    "# Mittelwert je Standort berechnen (für bestimmte Spalten)\n",
    "spalten_mit_mittelwert = [\"Boden\", \"MinTemp\", \"AvgTemp\", \"MaxTemp\"]\n",
    "\n",
    "# Fehlende Werte je Standort durch den jeweiligen Mittelwert ersetzen\n",
    "for spalte in spalten_mit_mittelwert:\n",
    "    gesamt_daten[spalte] = gesamt_daten.groupby(\"Standort\")[spalte].transform(\n",
    "        lambda gruppe: gruppe.fillna(gruppe.mean())\n",
    "    )\n",
    "\n",
    "# Fehlende Werte in „Sonne“ durch 0 ersetzen\n",
    "gesamt_daten[\"Sonne\"] = gesamt_daten[\"Sonne\"].fillna(0)\n"
   ]
  },
  {
   "cell_type": "code",
   "execution_count": 8,
   "id": "fa9ed2e7",
   "metadata": {},
   "outputs": [],
   "source": [
    "# Die Spalten, die am Ende enthalten sein müssen\n",
    "ziel_spalten = [\n",
    "    \"Standort\", \"Datum\", \"MinTemp\", \"AvgTemp\", \"MaxTemp\",\n",
    "    \"Regen\", \"Sonne\", \"Mittel_Windstaerke\", \"Max_Windgeschwindigkeit\", \"Boden\"\n",
    "]\n",
    "\n",
    "# Fehlende Spalten hinzufügen, falls sie nicht existieren\n",
    "for spalte in ziel_spalten:\n",
    "    if spalte not in gesamt_daten.columns:\n",
    "        gesamt_daten[spalte] = pd.NA\n",
    "\n",
    "# Spaltenreihenfolge korrekt anordnen\n",
    "gesamt_daten = gesamt_daten[ziel_spalten]\n"
   ]
  },
  {
   "cell_type": "code",
   "execution_count": null,
   "id": "3fe37ddc",
   "metadata": {},
   "outputs": [],
   "source": [
    "# Exportieren als CSV mit Komma als Trennzeichen und ohne Index\n",
    "export_pfad = os.path.join(ordnerpfad, \"Monthly_combined.csv\")\n",
    "\n",
    "gesamt_daten.to_csv(\n",
    "    export_pfad,\n",
    "    sep=\",\",\n",
    "    index=False,\n",
    "    encoding=\"latin1\"\n",
    ")"
   ]
  }
 ],
 "metadata": {
  "kernelspec": {
   "display_name": "Python 3",
   "language": "python",
   "name": "python3"
  },
  "language_info": {
   "codemirror_mode": {
    "name": "ipython",
    "version": 3
   },
   "file_extension": ".py",
   "mimetype": "text/x-python",
   "name": "python",
   "nbconvert_exporter": "python",
   "pygments_lexer": "ipython3",
   "version": "3.13.1"
  }
 },
 "nbformat": 4,
 "nbformat_minor": 5
}
