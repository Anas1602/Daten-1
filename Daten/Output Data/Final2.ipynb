{
 "cells": [
  {
   "cell_type": "code",
   "execution_count": 1,
   "id": "d1ddd7ee",
   "metadata": {},
   "outputs": [],
   "source": [
    "# %%\n",
    "import pandas as pd\n",
    "import os\n",
    "\n",
    "# Ordnerpfad, in dem sich die CSV-Dateien befinden\n",
    "ordner_pfad = \"C:/Users/anasl/Desktop/Daten 1/Daten/Output Data\"\n",
    "\n",
    "# Alle CSV-Dateien im Ordner auflisten\n",
    "csv_dateien = [datei for datei in os.listdir(ordner_pfad) if datei.endswith('.csv')]\n",
    "alle_csv_daten = []\n",
    "\n",
    "# Alle CSV-Dateien einlesen (mit low_memory=False zur Vermeidung von DtypeWarnings)\n",
    "for datei_name in csv_dateien:\n",
    "    vollstaendiger_pfad = os.path.join(ordner_pfad, datei_name)\n",
    "    daten = pd.read_csv(vollstaendiger_pfad, sep=\",\", encoding='latin1', low_memory=False)\n",
    "    alle_csv_daten.append(daten)\n",
    "\n",
    "# Alle eingelesenen Daten kombinieren\n",
    "kombinierte_csv_daten = pd.concat(alle_csv_daten, ignore_index=True)\n"
   ]
  },
  {
   "cell_type": "code",
   "execution_count": 2,
   "id": "c3fa9956",
   "metadata": {},
   "outputs": [],
   "source": [
    "# %%\n",
    "# Datum konvertieren\n",
    "kombinierte_csv_daten['Datum'] = pd.to_datetime(kombinierte_csv_daten['Datum'], errors='coerce')\n",
    "\n",
    "# Nach Standort und Datum sortieren\n",
    "sortierte_daten = kombinierte_csv_daten.sort_values(['Standort', 'Datum']).reset_index(drop=True)\n"
   ]
  },
  {
   "cell_type": "code",
   "execution_count": 3,
   "id": "eb366f4a",
   "metadata": {},
   "outputs": [],
   "source": [
    "# %%\n",
    "# Funktion zur automatischen Korrektur von codierten Zeichen (z. B. Ã¼ → ü)\n",
    "def fix_encoding(text):\n",
    "    if pd.isna(text):\n",
    "        return text\n",
    "    try:\n",
    "        return text.encode('latin1').decode('utf-8')\n",
    "    except:\n",
    "        return text  # Falls Umwandlung fehlschlägt, Original zurückgeben\n",
    "\n",
    "# Auf die Spalte „Standort“ anwenden\n",
    "sortierte_daten['Standort'] = sortierte_daten['Standort'].apply(fix_encoding)\n"
   ]
  },
  {
   "cell_type": "code",
   "execution_count": 4,
   "id": "cfd77054",
   "metadata": {},
   "outputs": [],
   "source": [
    "# %%\n",
    "# Bekannte fehlerhafte Ortsnamen manuell ersetzen\n",
    "spezial_fixes = {\n",
    "    'GroÃŸ': 'Groß',\n",
    "    'MÃ¼nster': 'Münster',\n",
    "    'OsnabrÃ¼ck': 'Osnabrück',\n",
    "    'SchÃ¶nau am KÃ¶nigssee Bayern': 'Schönau am Königssee Bayern',\n",
    "    'Ulm-MÃ¤hringen': 'Ulm-Mähringen'\n",
    "}\n",
    "\n",
    "def manuelle_korrektur(text):\n",
    "    for falsch, richtig in spezial_fixes.items():\n",
    "        text = text.replace(falsch, richtig)\n",
    "    return text\n",
    "\n",
    "# Auf die Spalte „Standort“ anwenden\n",
    "sortierte_daten['Standort'] = sortierte_daten['Standort'].apply(manuelle_korrektur)\n"
   ]
  },
  {
   "cell_type": "code",
   "execution_count": 5,
   "id": "601cf233",
   "metadata": {},
   "outputs": [],
   "source": [
    "# %%\n",
    "# Exportieren als UTF-8-SIG für Excel-Kompatibilität\n",
    "sortierte_daten.to_csv(\n",
    "    \"C:/Users/anasl/Desktop/Daten 1/Daten/Output Data/Weather_Master_Data.csv\",\n",
    "    index=False,\n",
    "    encoding='utf-8-sig'\n",
    ")\n"
   ]
  }
 ],
 "metadata": {
  "kernelspec": {
   "display_name": "Python 3",
   "language": "python",
   "name": "python3"
  },
  "language_info": {
   "codemirror_mode": {
    "name": "ipython",
    "version": 3
   },
   "file_extension": ".py",
   "mimetype": "text/x-python",
   "name": "python",
   "nbconvert_exporter": "python",
   "pygments_lexer": "ipython3",
   "version": "3.13.1"
  }
 },
 "nbformat": 4,
 "nbformat_minor": 5
}
