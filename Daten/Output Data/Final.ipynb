{
 "cells": [
  {
   "cell_type": "code",
   "execution_count": 1,
   "id": "b820cc27",
   "metadata": {},
   "outputs": [],
   "source": [
    "import pandas as pd\n",
    "import os\n",
    "\n",
    "# Set folder path\n",
    "ordner_pfad = \"C:/Users/anasl/Desktop/Daten 1/Daten/Output Data\""
   ]
  },
  {
   "cell_type": "code",
   "execution_count": 2,
   "id": "4233dd10",
   "metadata": {},
   "outputs": [],
   "source": [
    "# Get all .csv files\n",
    "csv_dateien = [datei for datei in os.listdir(ordner_pfad) if datei.endswith('.csv')]\n",
    "alle_csv_daten = []"
   ]
  },
  {
   "cell_type": "code",
   "execution_count": 3,
   "id": "c0a064bc",
   "metadata": {},
   "outputs": [],
   "source": [
    "# Read each CSV file with latin1 encoding\n",
    "for datei_name in csv_dateien:\n",
    "    vollstaendiger_pfad = os.path.join(ordner_pfad, datei_name)\n",
    "    daten = pd.read_csv(vollstaendiger_pfad, sep=\",\", encoding='latin1')\n",
    "    alle_csv_daten.append(daten)\n",
    "\n",
    "# Combine all CSV data\n",
    "kombinierte_csv_daten = pd.concat(alle_csv_daten, ignore_index=True)"
   ]
  },
  {
   "cell_type": "code",
   "execution_count": 4,
   "id": "c289e991",
   "metadata": {},
   "outputs": [],
   "source": [
    "# Convert Datum to datetime if needed\n",
    "kombinierte_csv_daten['Datum'] = pd.to_datetime(kombinierte_csv_daten['Datum'], errors='coerce')\n",
    "\n",
    "# Sort by Standort and Datum\n",
    "sortierte_daten = kombinierte_csv_daten.sort_values(['Standort', 'Datum']).reset_index(drop=True)"
   ]
  },
  {
   "cell_type": "code",
   "execution_count": 5,
   "id": "c89d2395",
   "metadata": {},
   "outputs": [],
   "source": [
    "# Export combined and sorted data\n",
    "sortierte_daten.to_csv(\"Weather_Final_Output.csv\", sep=\",\", index=False)"
   ]
  }
 ],
 "metadata": {
  "kernelspec": {
   "display_name": "Python 3",
   "language": "python",
   "name": "python3"
  },
  "language_info": {
   "codemirror_mode": {
    "name": "ipython",
    "version": 3
   },
   "file_extension": ".py",
   "mimetype": "text/x-python",
   "name": "python",
   "nbconvert_exporter": "python",
   "pygments_lexer": "ipython3",
   "version": "3.13.1"
  }
 },
 "nbformat": 4,
 "nbformat_minor": 5
}
