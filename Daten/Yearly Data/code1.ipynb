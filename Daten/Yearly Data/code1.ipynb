{
 "cells": [
  {
   "cell_type": "code",
   "execution_count": 1,
   "id": "153f4643",
   "metadata": {},
   "outputs": [],
   "source": [
    "import pandas as pd\n",
    "import os\n",
    "import numpy as np\n"
   ]
  },
  {
   "cell_type": "code",
   "execution_count": 2,
   "id": "bbee05e2",
   "metadata": {},
   "outputs": [],
   "source": [
    "# Ordnerpfad mit allen Daten\n",
    "ordnerpfad = \"C:/Users/anasl/Desktop/Daten 1/Daten/Yearly Data\"\n",
    "\n",
    "# Alle Dateien im Ordner auflisten\n",
    "alle_dateien = os.listdir(ordnerpfad)\n"
   ]
  },
  {
   "cell_type": "code",
   "execution_count": 3,
   "id": "11fe13c5",
   "metadata": {},
   "outputs": [],
   "source": [
    "# Liste zum Speichern aller bereinigten DataFrames\n",
    "alle_daten = []\n"
   ]
  },
  {
   "cell_type": "code",
   "execution_count": 4,
   "metadata": {},
   "outputs": [],
   "source": [
    "for dateiname in alle_dateien:\n",
    "    \n",
    "    dateipfad = os.path.join(ordnerpfad, dateiname)\n",
    "    \n",
    "    if dateiname.endswith(\".csv\"):\n",
    "        daten = pd.read_csv(dateipfad, sep=\";\", encoding=\"latin1\")\n",
    "        \n",
    "        # Spalten umbenennen (nur die relevanten)\n",
    "        daten = daten.rename(columns={\n",
    "            \"MinTemp\": \"MinTemp\",\n",
    "            \"AvgTemp\": \"AvgTemp\",\n",
    "            \"MaxTemp\": \"MaxTemp\",\n",
    "            \"Regen\": \"Regen\",\n",
    "            \"Sonne\": \"Sonne\",\n",
    "            \"Standort\": \"Standort\",\n",
    "            \"Datum\": \"Datum\",\n",
    "            \"Boden\": \"Boden\"\n",
    "        })\n",
    "\n",
    "    elif dateiname.endswith(\".tsv\"):\n",
    "        daten = pd.read_csv(dateipfad, sep=\"\\t\", encoding=\"latin1\")\n",
    "        \n",
    "        # Neue Spalte Boden (nicht vorhanden in .tsv)\n",
    "        daten[\"Boden\"] = np.nan\n",
    "        \n",
    "        # Spalten umbenennen\n",
    "        daten = daten.rename(columns={\n",
    "            \"Standort\": \"Standort\",\n",
    "            \"Datum\": \"Datum\",\n",
    "            \"Min_2m\": \"MinTemp\",\n",
    "            \"Mittel_2m\": \"AvgTemp\",\n",
    "            \"Max_2m\": \"MaxTemp\",\n",
    "            \"Niederschlagshoehe\": \"Regen\",\n",
    "            \"Sonnenscheindauer\": \"Sonne\"\n",
    "        })\n",
    "\n",
    "    else:\n",
    "        continue  # Falls es keine .csv oder .tsv ist, überspringen\n",
    "\n",
    "    alle_daten.append(daten)"
   ]
  },
  {
   "cell_type": "code",
   "execution_count": 5,
   "id": "cd130392",
   "metadata": {},
   "outputs": [],
   "source": [
    "# Alle Daten in einem DataFrame kombinieren\n",
    "vereinigte_daten = pd.concat(alle_daten, ignore_index=True)"
   ]
  },
  {
   "cell_type": "code",
   "execution_count": 6,
   "id": "b434e834",
   "metadata": {},
   "outputs": [],
   "source": [
    "# Datum konvertieren\n",
    "vereinigte_daten[\"Datum\"] = pd.to_datetime(vereinigte_daten[\"Datum\"], dayfirst=True, errors=\"coerce\")\n",
    "\n",
    "# Nur Daten ab 01.01.2020 behalten\n",
    "vereinigte_daten = vereinigte_daten[vereinigte_daten[\"Datum\"] >= \"2020-01-01\"]"
   ]
  },
  {
   "cell_type": "code",
   "execution_count": 7,
   "id": "b4b6031a",
   "metadata": {},
   "outputs": [],
   "source": [
    "# Boden, MinTemp, AvgTemp, MaxTemp → mit Mittelwert pro Standort auffüllen\n",
    "\n",
    "for spalte in [\"Boden\", \"MinTemp\", \"AvgTemp\", \"MaxTemp\"]:\n",
    "    vereinigte_daten[spalte] = vereinigte_daten.groupby(\"Standort\")[spalte].transform(\n",
    "        lambda x: x.fillna(x.mean())\n",
    "    )\n",
    "\n",
    "# Sonne → fehlende Werte mit 0 ersetzen\n",
    "vereinigte_daten[\"Sonne\"] = vereinigte_daten[\"Sonne\"].fillna(0)\n"
   ]
  },
  {
   "cell_type": "code",
   "execution_count": 8,
   "id": "e4cda753",
   "metadata": {},
   "outputs": [],
   "source": [
    "# Daten nach Datum und Standort sortieren\n",
    "vereinigte_daten = vereinigte_daten.sort_values([\"Datum\", \"Standort\"])\n",
    "\n",
    "# Datei als CSV exportieren\n",
    "vereinigte_daten.to_csv(\"yearly_combined_1.csv\", sep=\",\", index=False, encoding=\"latin1\")\n"
   ]
  }
 ],
 "metadata": {
  "kernelspec": {
   "display_name": "Python 3",
   "language": "python",
   "name": "python3"
  },
  "language_info": {
   "codemirror_mode": {
    "name": "ipython",
    "version": 3
   },
   "file_extension": ".py",
   "mimetype": "text/x-python",
   "name": "python",
   "nbconvert_exporter": "python",
   "pygments_lexer": "ipython3",
   "version": "3.13.1"
  }
 },
 "nbformat": 4,
 "nbformat_minor": 5
}
