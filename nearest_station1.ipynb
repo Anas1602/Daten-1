{
 "cells": [
  {
   "cell_type": "code",
   "execution_count": 2,
   "id": "77601edf",
   "metadata": {},
   "outputs": [],
   "source": [
    "import pandas as pd\n",
    "import numpy as np\n",
    "from math import radians, cos, sin, asin, sqrt\n",
    "from difflib import get_close_matches\n",
    "\n",
    "def haversine_distance(lat1, lon1, lat2, lon2):\n",
    "    \"\"\"Calculate distance between two coordinates in km\"\"\"\n",
    "    lat1, lon1, lat2, lon2 = map(radians, [lat1, lon1, lat2, lon2])\n",
    "    dlat = lat2 - lat1\n",
    "    dlon = lon2 - lon1\n",
    "    a = sin(dlat/2)**2 + cos(lat1) * cos(lat2) * sin(dlon/2)**2\n",
    "    c = 2 * asin(sqrt(a))\n",
    "    return c * 6371  # Earth radius in km\n",
    "\n",
    "def find_station(user_input, station_names):\n",
    "    \"\"\"Find best matching station using fuzzy matching\"\"\"\n",
    "    matches = get_close_matches(user_input, station_names, n=1, cutoff=0.6)\n",
    "    return matches[0] if matches else None\n",
    "\n",
    "def get_nearest_station(df, target_station):\n",
    "    \"\"\"Find nearest station to target station\"\"\"\n",
    "    target_row = df[df['Standort'] == target_station].iloc[0]\n",
    "    target_lat, target_lon = target_row['Geo_Breite'], target_row['Geo_Laenge']\n",
    "    \n",
    "    distances = []\n",
    "    for _, row in df.iterrows():\n",
    "        if row['Standort'] != target_station:\n",
    "            dist = haversine_distance(target_lat, target_lon, row['Geo_Breite'], row['Geo_Laenge'])\n",
    "            distances.append((row['Standort'], dist))\n",
    "    \n",
    "    return min(distances, key=lambda x: x[1])"
   ]
  },
  {
   "cell_type": "code",
   "execution_count": 3,
   "id": "1b96f457",
   "metadata": {},
   "outputs": [
    {
     "name": "stdout",
     "output_type": "stream",
     "text": [
      "Loaded 540 stations\n"
     ]
    }
   ],
   "source": [
    "df = pd.read_csv(\"C:/Users/anasl/Desktop/Daten 1/Daten/Stationen.csv\", encoding=\"latin1\", sep=\"\\t\")  # Change to your CSV path\n",
    "station_names = df['Standort'].tolist()\n",
    "print(f\"Loaded {len(df)} stations\")"
   ]
  },
  {
   "cell_type": "code",
   "execution_count": 6,
   "id": "4aa79e38",
   "metadata": {},
   "outputs": [
    {
     "name": "stdout",
     "output_type": "stream",
     "text": [
      "Found: Augsburg\n"
     ]
    }
   ],
   "source": [
    "user_input = \"Augsburg\"  # Change this to your desired station name\n",
    "matched_station = find_station(user_input, station_names)\n",
    "\n",
    "if matched_station:\n",
    "    print(f\"Found: {matched_station}\")\n",
    "else:\n",
    "    print(\"No match found. Try again.\")"
   ]
  },
  {
   "cell_type": "code",
   "execution_count": 7,
   "id": "571c1753",
   "metadata": {},
   "outputs": [
    {
     "name": "stdout",
     "output_type": "stream",
     "text": [
      "Nearest to Augsburg: Lechfeld (27.52 km)\n"
     ]
    }
   ],
   "source": [
    "if matched_station:\n",
    "    nearest_station, distance = get_nearest_station(df, matched_station)\n",
    "    print(f\"Nearest to {matched_station}: {nearest_station} ({distance:.2f} km)\")\n",
    "else:\n",
    "    print(\"Please run Cell 3 again with a valid station name\")"
   ]
  }
 ],
 "metadata": {
  "kernelspec": {
   "display_name": "Python 3",
   "language": "python",
   "name": "python3"
  },
  "language_info": {
   "codemirror_mode": {
    "name": "ipython",
    "version": 3
   },
   "file_extension": ".py",
   "mimetype": "text/x-python",
   "name": "python",
   "nbconvert_exporter": "python",
   "pygments_lexer": "ipython3",
   "version": "3.13.1"
  }
 },
 "nbformat": 4,
 "nbformat_minor": 5
}
